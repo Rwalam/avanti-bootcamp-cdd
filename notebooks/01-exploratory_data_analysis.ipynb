{
 "cells": [
  {
   "cell_type": "markdown",
   "metadata": {},
   "source": [
    "# Análise exploratória de dados"
   ]
  },
  {
   "cell_type": "code",
   "execution_count": 7,
   "metadata": {
    "scrolled": true
   },
   "outputs": [],
   "source": [
    "import pandas as pd\n",
    "import numpy as np\n",
    "import geopandas as gpd\n",
    "import matplotlib.pyplot as plt\n",
    "import seaborn as sns"
   ]
  },
  {
   "cell_type": "code",
   "execution_count": 7,
   "metadata": {
    "tags": []
   },
   "outputs": [],
   "source": [
    "# Criar dicionário de dados\n",
    "data_dictionary = pd.DataFrame([\n",
    "    {\n",
    "        'variavel': 'CustomerId',\n",
    "        'descricao': 'Identificador único do cliente',\n",
    "        'tipo': 'Quantitativa',\n",
    "        'subtipo': 'Discreta',\n",
    "    },\n",
    "    {\n",
    "        'variavel': 'CreditScore',\n",
    "        'descricao': 'Pontuação de crédito do cliente',\n",
    "        'tipo': 'Quantitativa',\n",
    "        'subtipo': 'Discreta',\n",
    "    },\n",
    "    {\n",
    "        'variavel': 'Geography',\n",
    "        'descricao': 'Localização geográfica do cliente',\n",
    "        'tipo': 'Qualitativa',\n",
    "        'subtipo': 'Nominal',\n",
    "    },\n",
    "    {\n",
    "        'variavel': 'Gender',\n",
    "        'descricao': 'Genero do Cliente',\n",
    "        'tipo': 'Qualitativa',\n",
    "        'subtipo': 'Nominal',\n",
    "    },\n",
    "    {\n",
    "        'variavel': 'Age',\n",
    "        'descricao': 'Idade do Cliente',\n",
    "        'tipo': 'Quantitativa',\n",
    "        'subtipo': 'Discreta',\n",
    "    },\n",
    "    {\n",
    "        'variavel': 'Tenure',\n",
    "        'descricao': 'O número de anos que o cliente está no banco',\n",
    "        'tipo': 'Quantitiva',\n",
    "        'subtipo': 'Discreta',\n",
    "    },\n",
    "    {\n",
    "        'variavel': 'Balance',\n",
    "        'descricao': 'Saldo da conta do cliente',\n",
    "        'tipo': 'Quantitativa',\n",
    "        'subtipo': 'Continua',\n",
    "    },\n",
    "    {\n",
    "        'variavel': 'NumOfProducts',\n",
    "        'descricao': 'Número de produtos bancários que o cliente possui',\n",
    "        'tipo': 'Quantitativa',\n",
    "        'subtipo': 'Discreta',\n",
    "    },\n",
    "    {\n",
    "        'variavel': 'HasCrCard',\n",
    "        'descricao': 'Indica se o cliente possui cartão de crédito  (binário: sim/não).',\n",
    "        'tipo': 'Qualitativa',\n",
    "        'subtipo': 'Nominal',\n",
    "    },\n",
    "    {\n",
    "        'variavel': 'IsActiveMember',\n",
    "        'descricao': ' Indica se o cliente é um membro ativo (binário: sim/não).',\n",
    "        'tipo': 'Qualitativa',\n",
    "        'subtipo': 'Nominal',\n",
    "    },\n",
    "    {\n",
    "        'variavel': 'EstimatedSalary',\n",
    "        'descricao': 'O salário estimado do cliente.',\n",
    "        'tipo': 'Quantitativa',\n",
    "        'subtipo': 'Contínua',\n",
    "    },\n",
    "    {\n",
    "        'variavel': 'Exited',\n",
    "        'descricao': ' Indica se o cliente saiu do banco (binário: sim/não).',\n",
    "        'tipo': 'Qualitativa',\n",
    "        'subtipo': 'Nominal',\n",
    "    },\n",
    "\n",
    "\n",
    "\n",
    "])\n",
    "# Salvar dicionário de dados\n",
    "#data_dictionary.to_csv(\"../data/external/dictionary.csv\", index=False)"
   ]
  },
  {
   "cell_type": "code",
   "execution_count": 2,
   "metadata": {
    "tags": []
   },
   "outputs": [
    {
     "data": {
      "text/html": [
       "<div>\n",
       "<style scoped>\n",
       "    .dataframe tbody tr th:only-of-type {\n",
       "        vertical-align: middle;\n",
       "    }\n",
       "\n",
       "    .dataframe tbody tr th {\n",
       "        vertical-align: top;\n",
       "    }\n",
       "\n",
       "    .dataframe thead th {\n",
       "        text-align: right;\n",
       "    }\n",
       "</style>\n",
       "<table border=\"1\" class=\"dataframe\">\n",
       "  <thead>\n",
       "    <tr style=\"text-align: right;\">\n",
       "      <th></th>\n",
       "      <th>RowNumber</th>\n",
       "      <th>CustomerId</th>\n",
       "      <th>Surname</th>\n",
       "      <th>CreditScore</th>\n",
       "      <th>Geography</th>\n",
       "      <th>Gender</th>\n",
       "      <th>Age</th>\n",
       "      <th>Tenure</th>\n",
       "      <th>Balance</th>\n",
       "      <th>NumOfProducts</th>\n",
       "      <th>HasCrCard</th>\n",
       "      <th>IsActiveMember</th>\n",
       "      <th>EstimatedSalary</th>\n",
       "      <th>Exited</th>\n",
       "    </tr>\n",
       "  </thead>\n",
       "  <tbody>\n",
       "    <tr>\n",
       "      <th>0</th>\n",
       "      <td>1</td>\n",
       "      <td>15634602</td>\n",
       "      <td>Hargrave</td>\n",
       "      <td>619</td>\n",
       "      <td>France</td>\n",
       "      <td>Female</td>\n",
       "      <td>42</td>\n",
       "      <td>2</td>\n",
       "      <td>0.00</td>\n",
       "      <td>1</td>\n",
       "      <td>1</td>\n",
       "      <td>1</td>\n",
       "      <td>101348.88</td>\n",
       "      <td>1</td>\n",
       "    </tr>\n",
       "    <tr>\n",
       "      <th>1</th>\n",
       "      <td>2</td>\n",
       "      <td>15647311</td>\n",
       "      <td>Hill</td>\n",
       "      <td>608</td>\n",
       "      <td>Spain</td>\n",
       "      <td>Female</td>\n",
       "      <td>41</td>\n",
       "      <td>1</td>\n",
       "      <td>83807.86</td>\n",
       "      <td>1</td>\n",
       "      <td>0</td>\n",
       "      <td>1</td>\n",
       "      <td>112542.58</td>\n",
       "      <td>0</td>\n",
       "    </tr>\n",
       "    <tr>\n",
       "      <th>2</th>\n",
       "      <td>3</td>\n",
       "      <td>15619304</td>\n",
       "      <td>Onio</td>\n",
       "      <td>502</td>\n",
       "      <td>France</td>\n",
       "      <td>Female</td>\n",
       "      <td>42</td>\n",
       "      <td>8</td>\n",
       "      <td>159660.80</td>\n",
       "      <td>3</td>\n",
       "      <td>1</td>\n",
       "      <td>0</td>\n",
       "      <td>113931.57</td>\n",
       "      <td>1</td>\n",
       "    </tr>\n",
       "    <tr>\n",
       "      <th>3</th>\n",
       "      <td>4</td>\n",
       "      <td>15701354</td>\n",
       "      <td>Boni</td>\n",
       "      <td>699</td>\n",
       "      <td>France</td>\n",
       "      <td>Female</td>\n",
       "      <td>39</td>\n",
       "      <td>1</td>\n",
       "      <td>0.00</td>\n",
       "      <td>2</td>\n",
       "      <td>0</td>\n",
       "      <td>0</td>\n",
       "      <td>93826.63</td>\n",
       "      <td>0</td>\n",
       "    </tr>\n",
       "    <tr>\n",
       "      <th>4</th>\n",
       "      <td>5</td>\n",
       "      <td>15737888</td>\n",
       "      <td>Mitchell</td>\n",
       "      <td>850</td>\n",
       "      <td>Spain</td>\n",
       "      <td>Female</td>\n",
       "      <td>43</td>\n",
       "      <td>2</td>\n",
       "      <td>125510.82</td>\n",
       "      <td>1</td>\n",
       "      <td>1</td>\n",
       "      <td>1</td>\n",
       "      <td>79084.10</td>\n",
       "      <td>0</td>\n",
       "    </tr>\n",
       "  </tbody>\n",
       "</table>\n",
       "</div>"
      ],
      "text/plain": [
       "   RowNumber  CustomerId   Surname  CreditScore Geography  Gender  Age  \\\n",
       "0          1    15634602  Hargrave          619    France  Female   42   \n",
       "1          2    15647311      Hill          608     Spain  Female   41   \n",
       "2          3    15619304      Onio          502    France  Female   42   \n",
       "3          4    15701354      Boni          699    France  Female   39   \n",
       "4          5    15737888  Mitchell          850     Spain  Female   43   \n",
       "\n",
       "   Tenure    Balance  NumOfProducts  HasCrCard  IsActiveMember  \\\n",
       "0       2       0.00              1          1               1   \n",
       "1       1   83807.86              1          0               1   \n",
       "2       8  159660.80              3          1               0   \n",
       "3       1       0.00              2          0               0   \n",
       "4       2  125510.82              1          1               1   \n",
       "\n",
       "   EstimatedSalary  Exited  \n",
       "0        101348.88       1  \n",
       "1        112542.58       0  \n",
       "2        113931.57       1  \n",
       "3         93826.63       0  \n",
       "4         79084.10       0  "
      ]
     },
     "execution_count": 2,
     "metadata": {},
     "output_type": "execute_result"
    }
   ],
   "source": [
    "df = pd.read_csv('../data/raw/Churn_Modelling.csv')\n",
    "df.head()"
   ]
  },
  {
   "cell_type": "code",
   "execution_count": 4,
   "metadata": {
    "tags": []
   },
   "outputs": [
    {
     "name": "stdout",
     "output_type": "stream",
     "text": [
      "A variável com maior correlação com 'Exited' é 'Age' com um valor de correlação absoluto de 0.2853\n"
     ]
    }
   ],
   "source": [
    "# Seleciona apenas as colunas numéricas\n",
    "df_numeric = df.select_dtypes(include=['number'])\n",
    "\n",
    "# Calcula a matriz de correlação apenas com as colunas numéricas\n",
    "correlation_matrix = df_numeric.corr()\n",
    "\n",
    "# Obtém as correlações com a variável 'Exited'\n",
    "correlations_with_exited = correlation_matrix['Exited'].drop('Exited')\n",
    "\n",
    "# Encontra a variável com a maior correlação\n",
    "variable_with_highest_correlation = correlations_with_exited.idxmax()\n",
    "highest_correlation_value = correlations_with_exited.max()\n",
    "\n",
    "print(f\"A variável com maior correlação com 'Exited' é '{variable_with_highest_correlation}' com um valor de correlação absoluto de {highest_correlation_value:.4f}\")"
   ]
  },
  {
   "cell_type": "markdown",
   "metadata": {},
   "source": [
    "A variavel que tem a maior correlação com o churn é a idade, mas ainda sim é uma correlação positiva fraca.\n",
    "\n",
    "A variável com maior correlação com 'Exited' é 'Age' com um valor de correlação absoluto de 0.2853\n",
    "\n",
    "A variável com maior correlação negativa com 'Exited' é 'IsActiveMember' com um valor de correlação absoluto de -0.1561, também muito fraca"
   ]
  },
  {
   "cell_type": "code",
   "execution_count": null,
   "metadata": {},
   "outputs": [],
   "source": [
    "# Plot a heatmap of the correlation matrix\n",
    "plt.figure(figsize=(10, 8))\n",
    "sns.heatmap(correlation_matrix, annot=True, cmap='coolwarm', fmt=\".2f\")\n",
    "plt.title('Matriz de correlação entre as variaveis')\n",
    "plt.show()"
   ]
  },
  {
   "cell_type": "code",
   "execution_count": null,
   "metadata": {},
   "outputs": [],
   "source": [
    "df.describe()"
   ]
  },
  {
   "cell_type": "code",
   "execution_count": null,
   "metadata": {},
   "outputs": [],
   "source": [
    "order = 0\n",
    "for i, variavel in enumerate(data_dictionary.query(\"tipo == 'Qualitativa'\").variavel.to_list()):\n",
    "  if data_dictionary.query('variavel == @variavel').subtipo.to_list()[0] == 'Nominal':\n",
    "    order = df[variavel].value_counts()\n",
    "\n",
    "print(order)"
   ]
  },
  {
   "cell_type": "code",
   "execution_count": null,
   "metadata": {},
   "outputs": [],
   "source": [
    "import seaborn as sns\n",
    "import matplotlib.pyplot as plt\n",
    "\n",
    "# Configura os subplots em uma grade 2x3\n",
    "fig, axes = plt.subplots(2, 3, figsize=(12, 8))\n",
    "plt.tight_layout(pad=4, w_pad=10, h_pad=5)\n",
    "fig.suptitle('Distribuição de variáveis qualitativas', fontweight='bold')\n",
    "\n",
    "# Filtra e plota apenas as 5 primeiras variáveis qualitativas\n",
    "for i, variavel in enumerate(data_dictionary.query(\"tipo == 'Qualitativa'\").variavel.to_list()[:5]):\n",
    "    order = None\n",
    "    if data_dictionary.query('variavel == @variavel').subtipo.to_list()[0] == 'Nominal':\n",
    "        order = df[variavel].value_counts().index\n",
    "    ax = sns.countplot(\n",
    "        data=df,\n",
    "        y=variavel,\n",
    "        ax=axes.flatten()[i],\n",
    "        #color=colors[0],\n",
    "        alpha=0.9,\n",
    "        order=order,\n",
    "        orient='h'\n",
    "    )\n",
    "    ax.bar_label(\n",
    "        ax.containers[0],\n",
    "        fmt='%.0f',\n",
    "        label_type='center',\n",
    "        color='white'\n",
    "    )\n",
    "    ax.set(frame_on=False)\n",
    "    ax.axvline(0, color=\"k\", clip_on=False)\n",
    "    ax.set_title(f\"Distribuição da variável '{variavel}'\")\n",
    "    ax.set_xlabel('Quantidade')\n",
    "    ax.grid(axis='x', linestyle='-')\n",
    "\n",
    "fig.delaxes(axes[1, 2])\n",
    "\n",
    "plt.show()"
   ]
  },
  {
   "cell_type": "code",
   "execution_count": null,
   "metadata": {},
   "outputs": [],
   "source": [
    "import seaborn as sns\n",
    "import matplotlib.pyplot as plt\n",
    "\n",
    "# Configura os subplots em uma grade 3x2\n",
    "fig, axes = plt.subplots(3, 2, figsize=(12, 8))\n",
    "plt.tight_layout(pad=4, w_pad=10, h_pad=5)\n",
    "fig.suptitle('Distribuição de variáveis quantitativas', fontweight='bold')\n",
    "\n",
    "# Filtra e plota apenas as variáveis quantitativas\n",
    "variaveis = data_dictionary.query(\"tipo == 'Quantitativa'\").variavel.to_list()\n",
    "\n",
    "for i, variavel in enumerate(variaveis):\n",
    "    if i < len(axes.flatten()):  # Verifica para evitar erro se houver mais variáveis do que subplots\n",
    "        ax = axes.flatten()[i]\n",
    "\n",
    "        # Verifica se é o último subplot para definir a orientação\n",
    "        if i == len(variaveis) - 1:  # Último gráfico\n",
    "            sns.histplot(\n",
    "                data=df,\n",
    "                y=variavel,  # Altera para o eixo y no último subplot\n",
    "                ax=ax,\n",
    "                alpha=0.9,\n",
    "                #color=colors[0]\n",
    "            )\n",
    "            ax.set_xlabel('Quantidade')\n",
    "            ax.set_ylabel(variavel)\n",
    "        else:\n",
    "            sns.histplot(\n",
    "                data=df,\n",
    "                x=variavel,\n",
    "                ax=ax,\n",
    "                alpha=0.9,\n",
    "                #color=colors[0]\n",
    "            )\n",
    "            ax.set_xlabel(variavel)\n",
    "            ax.set_ylabel('Quantidade')\n",
    "\n",
    "        ax.set(frame_on=False)\n",
    "        ax.axhline(0, color=\"k\", clip_on=False)\n",
    "        ax.set_title(f\"Distribuição da variável '{variavel}'\")\n",
    "        ax.grid(axis='y', linestyle='-')  # Mostra apenas linhas verticais\n",
    "\n",
    "plt.show()"
   ]
  },
  {
   "cell_type": "code",
   "execution_count": null,
   "metadata": {},
   "outputs": [],
   "source": [
    "# Filtra o DataFrame para registros Saldo e HasCrCard\n",
    "semSaldo = df['Balance'] == 0\n",
    "semCartao = df['HasCrCard'] == 0\n",
    "comCartao = df['HasCrCard'] == 1\n",
    "sairam = df['Exited'] == 1\n",
    "continuaram = df['Exited'] == 0\n",
    "\n",
    "\n",
    "# Filtra e exibe o DataFrame com as condições aplicadas\n",
    "dftmp1 = df[semSaldo & semCartao]\n",
    "dftmp2 = df[semSaldo & comCartao]\n",
    "\n",
    "print(dftmp1.shape[0])\n",
    "print(dftmp2.shape[0])"
   ]
  },
  {
   "cell_type": "code",
   "execution_count": null,
   "metadata": {},
   "outputs": [],
   "source": [
    "import matplotlib.pyplot as plt\n",
    "\n",
    "# Agrupa os dados por país e calcula o número total de clientes e o número de clientes que saíram\n",
    "churn_by_country = df[df['Exited'] == 1].groupby('Geography')['Exited'].count()\n",
    "total_by_country = df.groupby('Geography')['Exited'].count()\n",
    "\n",
    "# Calcula a porcentagem de clientes que saíram em cada país\n",
    "churn_percentage = (churn_by_country / total_by_country) * 100\n",
    "\n",
    "# Cria o gráfico de barras\n",
    "plt.figure(figsize=(8, 6))\n",
    "bars = plt.bar(churn_percentage.index, churn_percentage.values)\n",
    "\n",
    "# Adiciona as porcentagens em cada barra\n",
    "for bar in bars:\n",
    "    yval = bar.get_height()\n",
    "    plt.text(bar.get_x() + bar.get_width()/2, yval, f'{yval:.1f}%', ha='center', va='bottom')\n",
    "\n",
    "plt.xlabel('País',fontweight='bold')\n",
    "plt.ylabel('Porcentagem de Clientes que Sairam', fontweight='bold')\n",
    "plt.title('Porcentagem de Clientes que Sairam por País')\n",
    "plt.show()"
   ]
  },
  {
   "cell_type": "code",
   "execution_count": null,
   "metadata": {},
   "outputs": [],
   "source": [
    "# Example 2: Box plot of 'Balance' for different 'Geography'\n",
    "plt.figure(figsize=(10, 6))\n",
    "sns.boxplot(x='Geography', y='Balance', data=df)\n",
    "plt.title('Balance Distribution by Geography')\n",
    "plt.show()"
   ]
  },
  {
   "cell_type": "markdown",
   "metadata": {},
   "source": [
    "## 1. Descrição dos dados"
   ]
  },
  {
   "cell_type": "markdown",
   "metadata": {},
   "source": [
    "## 2. Perguntas de partida e hipóteses"
   ]
  },
  {
   "cell_type": "markdown",
   "metadata": {},
   "source": [
    "Qual a taxa de evasão?\n",
    "\n",
    "Qual país com mais clientes evadidos?\n",
    "\n",
    "O credit score baixo influencia os clientes desistem do banco?\n",
    "\n",
    "Clientes com cartão de crédito tendem a permanecer no banco?\n",
    "\n",
    "Qual variavel tem maior correlação com a permanência do cliente?\n",
    "\n",
    "Qual faixa etaria possui maior evasão?"
   ]
  },
  {
   "cell_type": "markdown",
   "metadata": {
    "jp-MarkdownHeadingCollapsed": true,
    "tags": []
   },
   "source": [
    "# Pergunta 1: Qual a taxa de evasão?"
   ]
  },
  {
   "cell_type": "code",
   "execution_count": null,
   "metadata": {},
   "outputs": [],
   "source": [
    "countsExited = df['Exited'].value_counts()"
   ]
  },
  {
   "cell_type": "code",
   "execution_count": null,
   "metadata": {},
   "outputs": [],
   "source": [
    "taxaDeEvasao = countsExited[1] / len(df)\n",
    "taxaDeEvasao"
   ]
  },
  {
   "cell_type": "markdown",
   "metadata": {
    "tags": []
   },
   "source": [
    "### 20% dos clientes da base de dados saíram do banco"
   ]
  },
  {
   "cell_type": "markdown",
   "metadata": {
    "tags": []
   },
   "source": [
    "# Pergunta 2: Qual país com mais clientes evadidos?"
   ]
  },
  {
   "cell_type": "code",
   "execution_count": null,
   "metadata": {},
   "outputs": [],
   "source": []
  },
  {
   "cell_type": "code",
   "execution_count": null,
   "metadata": {},
   "outputs": [],
   "source": [
    "country_counts = df['Geography'].value_counts()\n",
    "country_counts"
   ]
  },
  {
   "cell_type": "code",
   "execution_count": null,
   "metadata": {},
   "outputs": [],
   "source": [
    "plt.figure(figsize=(4, 3))\n",
    "country_counts.plot(kind='barh')\n",
    "plt.xlabel('Number of Customers')\n",
    "plt.ylabel('Country')\n",
    "plt.title('Number of Customers per Country')\n",
    "plt.show()"
   ]
  },
  {
   "cell_type": "markdown",
   "metadata": {},
   "source": [
    "### A frança é o país com maior número de clientes evadidos, com metade do total da base de dados. Os outros 2 países possuem cada um, aproximadamente 25% do total."
   ]
  },
  {
   "cell_type": "markdown",
   "metadata": {
    "tags": []
   },
   "source": [
    "# Pergunta 3: O credit score baixo influencia os clientes desistirem do banco?"
   ]
  },
  {
   "cell_type": "code",
   "execution_count": null,
   "metadata": {},
   "outputs": [],
   "source": []
  },
  {
   "cell_type": "markdown",
   "metadata": {},
   "source": [
    "# Pergunta 4: Clientes com cartão de crédito permanecem no banco?"
   ]
  },
  {
   "cell_type": "markdown",
   "metadata": {
    "tags": []
   },
   "source": [
    "# Pergunta 5: Qual variavel tem maior correlação com a permanência do cliente?"
   ]
  },
  {
   "cell_type": "markdown",
   "metadata": {},
   "source": [
    "### A maior é idade, com 0.29 de correlação, o que mostra que não existem variáveis com correlação forte com o churn"
   ]
  },
  {
   "cell_type": "markdown",
   "metadata": {
    "tags": []
   },
   "source": [
    "# Pergunta 6: Qual faixa etaria possui maior evasão?"
   ]
  },
  {
   "cell_type": "code",
   "execution_count": null,
   "metadata": {},
   "outputs": [],
   "source": [
    "import matplotlib.pyplot as plt\n",
    "import seaborn as sns\n",
    "\n",
    "# Crie o gráfico de barras horizontal\n",
    "plt.figure(figsize=(12, 8))\n",
    "sns.countplot(y='Age', hue='Exited', data=df)\n",
    "\n",
    "# Ajuste o título e os rótulos\n",
    "plt.title('Distribuição de Idades em relação à saída do Banco')\n",
    "plt.xlabel('Número de Clientes')\n",
    "plt.ylabel('Idade')\n",
    "\n",
    "# Ajuste o espaçamento entre os rótulos do eixo y\n",
    "plt.tight_layout()\n",
    "plt.show()"
   ]
  },
  {
   "cell_type": "markdown",
   "metadata": {},
   "source": [
    "### O gráfico mostra que, somente para os clientes entre 49 e 57 anos(e 60), há mais clientes que saíram do que permaneceram. Também é de se notar que a saida de clientes com mais de 71 anos quase não acontece"
   ]
  },
  {
   "cell_type": "code",
   "execution_count": 6,
   "metadata": {},
   "outputs": [
    {
     "name": "stdout",
     "output_type": "stream",
     "text": [
      "O número de clientes +71 é 106 e desses o numero que evadiu é: 4 equivale a 3.7735849056603774% de evasão nessa faixa etária\n"
     ]
    }
   ],
   "source": [
    "numero_clientes71 = len(df[(df['Age'] > 71)])\n",
    "numero_clientes = len(df[(df['Exited'] == 1) & (df['Age'] > 71)])\n",
    "percent = numero_clientes/numero_clientes71 *100\n",
    "print(f\"O número de clientes +71 é {numero_clientes71} e desses o numero que evadiu é: {numero_clientes} equivale a {percent}% de evasão nessa faixa etária\")"
   ]
  }
 ],
 "metadata": {
  "kernelspec": {
   "display_name": "Python 3 (ipykernel)",
   "language": "python",
   "name": "python3"
  },
  "language_info": {
   "codemirror_mode": {
    "name": "ipython",
    "version": 3
   },
   "file_extension": ".py",
   "mimetype": "text/x-python",
   "name": "python",
   "nbconvert_exporter": "python",
   "pygments_lexer": "ipython3",
   "version": "3.10.12"
  },
  "vscode": {
   "interpreter": {
    "hash": "eb3c3305d8b111f0102f4f519c5f17abd113fe74db6752c355e994a9008815ef"
   }
  }
 },
 "nbformat": 4,
 "nbformat_minor": 4
}
